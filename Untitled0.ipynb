{
  "nbformat": 4,
  "nbformat_minor": 0,
  "metadata": {
    "colab": {
      "name": "Untitled0.ipynb",
      "provenance": [],
      "collapsed_sections": [],
      "authorship_tag": "ABX9TyPikMq0V2cbijLmkCAFWH+d",
      "include_colab_link": true
    },
    "kernelspec": {
      "name": "python3",
      "display_name": "Python 3"
    }
  },
  "cells": [
    {
      "cell_type": "markdown",
      "metadata": {
        "id": "view-in-github",
        "colab_type": "text"
      },
      "source": [
        "<a href=\"https://colab.research.google.com/github/Chandu-Priya18/Python-module-1/blob/master/Untitled0.ipynb\" target=\"_parent\"><img src=\"https://colab.research.google.com/assets/colab-badge.svg\" alt=\"Open In Colab\"/></a>"
      ]
    },
    {
      "cell_type": "code",
      "metadata": {
        "id": "zL-aWhL7rUeQ",
        "colab_type": "code",
        "colab": {
          "base_uri": "https://localhost:8080/",
          "height": 67
        },
        "outputId": "2968f192-f08b-4f90-f8e0-735ccf77529c"
      },
      "source": [
        "#PythonprogramtofindAreaofarectangleusinglengthandwidth\n",
        "length=float(input('Enterlengthoftriangle:'))\n",
        "width=float(input('Enterthewidthoftriangle:'))\n",
        "#calculatethearea\n",
        "area=length*width\n",
        "print(\"Theareaofarectangleusing\",length,\"and\",width,\"=\",area)"
      ],
      "execution_count": 5,
      "outputs": [
        {
          "output_type": "stream",
          "text": [
            "Enterlengthoftriangle:3\n",
            "Enterthewidthoftriangle:5\n",
            "Theareaofarectangleusing 3.0 and 5.0 = 15.0\n"
          ],
          "name": "stdout"
        }
      ]
    },
    {
      "cell_type": "code",
      "metadata": {
        "id": "n9U5_u0ts1EK",
        "colab_type": "code",
        "colab": {
          "base_uri": "https://localhost:8080/",
          "height": 134
        },
        "outputId": "4985c663-a9ff-436b-c4fa-3070d797b3dc"
      },
      "source": [
        "#Pythonprogramtoperformsimplecalculatoroperators\n",
        "x=8\n",
        "y=3\n",
        "#addition\n",
        "print(x+y)\n",
        "#subtraction\n",
        "print(x-y)\n",
        "#multiplication\n",
        "print(x*y)\n",
        "#division\n",
        "print(x/y)\n",
        "#modulus\n",
        "print(x%y)\n",
        "#exponent\n",
        "print(x**y)\n",
        "#floordivision\n",
        "print(x//y)"
      ],
      "execution_count": 6,
      "outputs": [
        {
          "output_type": "stream",
          "text": [
            "11\n",
            "5\n",
            "24\n",
            "2.6666666666666665\n",
            "2\n",
            "512\n",
            "2\n"
          ],
          "name": "stdout"
        }
      ]
    },
    {
      "cell_type": "code",
      "metadata": {
        "id": "CUaw1QImsMGh",
        "colab_type": "code",
        "colab": {
          "base_uri": "https://localhost:8080/",
          "height": 84
        },
        "outputId": "600c6cb2-9968-474f-94d5-38d247e4b489"
      },
      "source": [
        "#Pythonprogramtocalculatesimpleinterest\n",
        "p=float(input('entervalueofp'))\n",
        "t=float(input('entervalueoft'))\n",
        "r=float(input('entervalueofr'))\n",
        "SI=(p*t*r)/100\n",
        "print(\"Simpleinterestusing\",p,t,\"and\",r\"=\",SI)"
      ],
      "execution_count": 7,
      "outputs": [
        {
          "output_type": "stream",
          "text": [
            "entervalueofp12\n",
            "entervalueoft2\n",
            "entervalueofr3\n",
            "Simpleinterestusing 12.0 2.0 and = 0.72\n"
          ],
          "name": "stdout"
        }
      ]
    },
    {
      "cell_type": "code",
      "metadata": {
        "id": "p4HTkIIGrX3i",
        "colab_type": "code",
        "colab": {
          "base_uri": "https://localhost:8080/",
          "height": 50
        },
        "outputId": "5a11dfdc-e6c8-4122-a3a1-4183f40393e1"
      },
      "source": [
        "#Pythonprogramtofindareaofacircle\n",
        "radius=float(input('entervalueofradius'))\n",
        "area=3.14*radius*radius\n",
        "print(\"Areaofcircleusing\",radius,\"=\",area)"
      ],
      "execution_count": 8,
      "outputs": [
        {
          "output_type": "stream",
          "text": [
            "entervalueofradius12\n",
            "Areaofcircleusing 12.0 = 452.15999999999997\n"
          ],
          "name": "stdout"
        }
      ]
    },
    {
      "cell_type": "code",
      "metadata": {
        "id": "ZQ9-OzbLsl2h",
        "colab_type": "code",
        "colab": {
          "base_uri": "https://localhost:8080/",
          "height": 50
        },
        "outputId": "d63e10c5-3f50-4741-c7b4-16cbf60d6b0f"
      },
      "source": [
        "#Pythonprogramtoconvertcelsiustofahrenheit\n",
        "celsius=float(input('Entertemperatureincelsius'))\n",
        "fahrenheit=(celsius*(9/5))+32\n",
        "print(\"Temperatureinfahrenheit=\",fahrenheit)"
      ],
      "execution_count": 9,
      "outputs": [
        {
          "output_type": "stream",
          "text": [
            "Entertemperatureincelsius9\n",
            "Temperatureinfahrenheit= 48.2\n"
          ],
          "name": "stdout"
        }
      ]
    },
    {
      "cell_type": "code",
      "metadata": {
        "id": "E8zT4XEqtVbj",
        "colab_type": "code",
        "colab": {
          "base_uri": "https://localhost:8080/",
          "height": 50
        },
        "outputId": "34b484ce-b16e-45b1-f086-f7f4deb615e0"
      },
      "source": [
        "#Pythonprogramtocalculatecircumferenceofacircle\n",
        "radius=float(input('enterradius'))\n",
        "circumference=2*3.14*radius\n",
        "print(\"Circumferenceusing\",radius,\"=\",circumference)"
      ],
      "execution_count": 10,
      "outputs": [
        {
          "output_type": "stream",
          "text": [
            "enterradius55\n",
            "Circumferenceusing 55.0 = 345.40000000000003\n"
          ],
          "name": "stdout"
        }
      ]
    },
    {
      "cell_type": "code",
      "metadata": {
        "id": "MhKgoAXotl8p",
        "colab_type": "code",
        "colab": {
          "base_uri": "https://localhost:8080/",
          "height": 118
        },
        "outputId": "55ef94bb-db83-4d98-b42f-f5232c3f959e"
      },
      "source": [
        "#Pythonprogramtoswaptwonumbers\n",
        "num1=input('Enterfirstnumber')\n",
        "num2=input('Entersecondnumber')\n",
        "print(\"valueofnum1beforeswapping\",num1)\n",
        "print(\"valueofnum2beforeswapping\",num2)\n",
        "temp=num1\n",
        "num1=num2\n",
        "num2=temp\n",
        "print(\"valueofnum1afterswapping\",num1)\n",
        "print(\"valueofnum2afterswapping\",num2)"
      ],
      "execution_count": 13,
      "outputs": [
        {
          "output_type": "stream",
          "text": [
            "Enterfirstnumber5\n",
            "Entersecondnumber10\n",
            "valueofnum1beforeswapping 5\n",
            "valueofnum2beforeswapping 10\n",
            "valueofnum1afterswapping 10\n",
            "valueofnum2afterswapping 5\n"
          ],
          "name": "stdout"
        }
      ]
    },
    {
      "cell_type": "code",
      "metadata": {
        "id": "YAjLe7lztqME",
        "colab_type": "code",
        "colab": {
          "base_uri": "https://localhost:8080/",
          "height": 67
        },
        "outputId": "4d7a13bc-4d52-4744-da51-7c1ef4716ccc"
      },
      "source": [
        "#Pythonprogramtofindareaoftriangle\n",
        "base=float(input('enterbasevalue'))\n",
        "height=float(input('enterheightvalue'))\n",
        "area=(base*height)/2\n",
        "print(\"areaoftriangleusing\",base,\"and\",height,\"=\",area)"
      ],
      "execution_count": 15,
      "outputs": [
        {
          "output_type": "stream",
          "text": [
            "enterbasevalue6\n",
            "enterheightvalue7\n",
            "areaoftriangleusing 6.0 and 7.0 = 21.0\n"
          ],
          "name": "stdout"
        }
      ]
    },
    {
      "cell_type": "code",
      "metadata": {
        "id": "X4SNnU9RumJi",
        "colab_type": "code",
        "colab": {
          "base_uri": "https://localhost:8080/",
          "height": 50
        },
        "outputId": "1e93f1a9-2e78-48f8-9b97-3d23653b4060"
      },
      "source": [
        "#Pythonprogramtofindperimeterofasquare\n",
        "side=float(input('enterthesidevalue'))\n",
        "perimeter=4*side\n",
        "print(\"perimeterusing\",side,\"=\",perimeter)"
      ],
      "execution_count": 17,
      "outputs": [
        {
          "output_type": "stream",
          "text": [
            "enterthesidevalue3\n",
            "perimeterusing 3.0 = 12.0\n"
          ],
          "name": "stdout"
        }
      ]
    }
  ]
}